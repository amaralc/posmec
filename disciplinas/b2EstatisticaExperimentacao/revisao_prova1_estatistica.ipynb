{
 "cells": [
  {
   "cell_type": "markdown",
   "metadata": {},
   "source": [
    "# Resumo para primeira prova de estatística\n",
    "\n",
    "\n"
   ]
  },
  {
   "cell_type": "code",
   "execution_count": null,
   "metadata": {},
   "outputs": [],
   "source": []
  },
  {
   "cell_type": "code",
   "execution_count": null,
   "metadata": {},
   "outputs": [],
   "source": []
  },
  {
   "cell_type": "code",
   "execution_count": null,
   "metadata": {},
   "outputs": [],
   "source": []
  },
  {
   "cell_type": "code",
   "execution_count": null,
   "metadata": {},
   "outputs": [],
   "source": []
  },
  {
   "cell_type": "markdown",
   "metadata": {},
   "source": [
    "## 2 - Probabilidade\n",
    "\n",
    "### Algumas propriedades:\n",
    "\n",
    "- $A \\cup B = B \\cup A$\n",
    "- $A \\cap B = B \\cap A$\n",
    "- $(A’)’ = A$\n",
    "- $(A \\cup B) \\cap C = (A \\cap C) \\cup (B \\cap C)$\n",
    "- $(A \\cap B) \\cup C = (A \\cup C) \\cap (B \\cup C)$\n",
    "- $(A \\cup B)’ = A’ \\cap B’$\n",
    "- $(A \\cap B)’ = A’ \\cup B’$\n",
    "\n",
    "### Regras de adição:\n",
    "\n",
    "- Para dois eventos: \n",
    "\n",
    "    $P(A \\cup B) = P(A) + P(B) - P(A \\cap B)$\n",
    "    \n",
    "    \n",
    "- Para três eventos:\n",
    "\n",
    "    $P(A \\cup B \\cup C) = P(A) + P(B) + P(C) - P(A \\cap B) - P(A \\cap C)- P(B \\cap C)- P(A \\cap B \\cap C)$"
   ]
  },
  {
   "cell_type": "markdown",
   "metadata": {},
   "source": [
    "### Questão 01 - Três eventos são mostrados na figura. Desenhe:\n",
    "\n",
    "- (a) A'\n",
    "- (b) (A∩Β)∪(Α∩Β')\n",
    "- (c) (A∩B)∪C\n",
    "- (d) (B∪C)'\n",
    "- (e) (A∩B)' ∪C\n",
    "\n",
    "<img src=\"questao_01.png\" alt=\"Drawing\" style=\"width: 300px;\"/>"
   ]
  },
  {
   "cell_type": "markdown",
   "metadata": {},
   "source": [
    "### Questão 02 - Se Se P(A) = 0,3; P(B) = 0,2 e P(A∩B) = 0,1, determine as seguintes probabilidades:\n",
    "\n",
    "- (a) P(A'): \n",
    "\n",
    "<img src=\"questao_02_a.png\" alt=\"Drawing\" style=\"width: 300px;\"/>\n",
    "\n",
    "$$P(A') = 1 - P(A) = 1 - 0,3 = 0,7$$\n",
    "\n",
    "- (b) P(A∪B)\n",
    "\n",
    "$$P(A \\cup B) = P(A) + P(B) - P(A \\cap B) = 0,3 + 0,2 - 0,1 = 0,4$$\n",
    "\n",
    "- (c) P(A' ∩ B)\n",
    "\n",
    "$$P(A' \\cap B) = P(B) - P(A \\cap B) = 0,2 - 0,1 = 0,1$$\n",
    "\n",
    "- (d) P(A ∩ B')\n",
    "\n",
    "$$P(A \\cap B') = P(A) - P(A \\cap B) = 0,3 - 0,1 = 0,2$$\n",
    "\n",
    "- (e) P[(A ∪ B)']\n",
    "\n",
    "$$P[(A \\cup B)'] = 1 - P(A \\cup B) = 1 - 0,4 = 0,6$$\n",
    "\n",
    "- (f) P(A' ∪ B)\n",
    "\n",
    "$$P[(A' \\cup B)] = P[(A \\cup B)'] + P(B) = 0,6 + 0,2 = 0,8$$\n",
    "\n"
   ]
  },
  {
   "cell_type": "markdown",
   "metadata": {},
   "source": [
    "## Apêndice A - Markdown e LaTeX\n",
    "\n",
    "\n",
    "- Add:\n",
    "     - $x+y$\n",
    "     \n",
    "- Subtract:\n",
    "    - $x-y^2$\n",
    "    \n",
    "- Multiply:\n",
    "    - $x*y$\n",
    "    - $x \\times y$\n",
    "    - $x . y$\n",
    "    \n",
    "- Divide\n",
    "    - $x / y$\n",
    "    - $x \\div y$\n",
    "    - $\\frac{x}{y}$\n",
    "    - $\\frac{x-(y.x)^2}{e^x-1}$\n",
    "    \n",
    "- Normal Distribution:\n",
    "\n",
    "    $P(x,\\sigma,\\mu) = \\frac{1}{\\sigma \\sqrt{2\\pi}}e^{-(x-\\mu)^2/{2\\sigma^2}}$\n",
    "    \n"
   ]
  },
  {
   "cell_type": "markdown",
   "metadata": {},
   "source": [
    "## Reference\n",
    "\n",
    "- https://nbviewer.jupyter.org/github/twistedhardware/mltutorial/blob/master/notebooks/jupyter/2.%20Markdown%20%26%20LaTeX.ipynb\n",
    "- https://www.youtube.com/watch?v=-F4WS8o-G2A\n",
    "- https://moodle.ufsc.br/pluginfile.php/2980079/mod_resource/content/3/2%20Probabilidade.pdf"
   ]
  },
  {
   "cell_type": "code",
   "execution_count": null,
   "metadata": {},
   "outputs": [],
   "source": []
  }
 ],
 "metadata": {
  "kernelspec": {
   "display_name": "Python 3",
   "language": "python",
   "name": "python3"
  },
  "language_info": {
   "codemirror_mode": {
    "name": "ipython",
    "version": 3
   },
   "file_extension": ".py",
   "mimetype": "text/x-python",
   "name": "python",
   "nbconvert_exporter": "python",
   "pygments_lexer": "ipython3",
   "version": "3.7.3"
  }
 },
 "nbformat": 4,
 "nbformat_minor": 2
}
